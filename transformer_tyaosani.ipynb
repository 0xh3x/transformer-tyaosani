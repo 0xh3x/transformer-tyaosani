{
  "nbformat": 4,
  "nbformat_minor": 0,
  "metadata": {
    "colab": {
      "provenance": [],
      "gpuType": "A100",
      "machine_shape": "hm"
    },
    "kernelspec": {
      "name": "python3",
      "display_name": "Python 3"
    },
    "language_info": {
      "name": "python"
    },
    "accelerator": "GPU"
  },
  "cells": [
    {
      "cell_type": "code",
      "execution_count": 3,
      "metadata": {
        "id": "0uaWcZPAze5l"
      },
      "outputs": [],
      "source": [
        "#| output: true\n",
        "import torch\n",
        "import torch.nn as nn\n",
        "from torch.nn import functional as F\n",
        "import matplotlib.pyplot as plt\n",
        "\n",
        "#Hyperparameters\n",
        "batch_size = 64 #Number of token chunks per batch #UPDATED\n",
        "context_length = 256 #Length of the token chunks. Andrej called this block size #UPDATED\n",
        "embedding_dim = 384 #The vector size of the token embeddings. Andrej used n_embed as the variable name. #UPDATED\n",
        "head_size1 = 16 #Self attention head size\n",
        "num_layers = 6 #Number of transformer block layers # NEW\n",
        "num_heads = 6  # NEW\n",
        "learning_rate = 3e-4 #UPDATED\n",
        "dropout = 0.2 #NEW\n",
        "max_iters = 5000 #Number of training iterations or steps.\n",
        "eval_interval = 500 #Number of steps between evaluating the validation set to see how our validation loss is doing. #UPDATED\n",
        "eval_iters = 200 #Number of steps to do on the validation set per each interval. We do more than 1 to get a more accurate overall valid loss\n",
        "device = 'cuda' if torch.cuda.is_available() else 'cpu' #Instead of using the cpu, we'll use the GPU if it's availble.\n",
        "\n",
        "TORCH_SEED = 1337\n",
        "torch.manual_seed(TORCH_SEED)\n",
        "\n",
        "#Dataset\n",
        "with open('vefxistyaosani.txt','r',encoding='utf-8') as f:\n",
        "    text = f.read()\n",
        "vocab = sorted(list(set(text))) #Called chars in the video, but vocab is a more generic term. Both are correct.\n",
        "vocab_size = len(vocab)\n",
        "\n",
        "char2idx = {char:idx for idx,char in enumerate(vocab)}\n",
        "idx2char = {idx:char for char,idx in char2idx.items()}\n",
        "encode = lambda x: [char2idx[char] for char in x]\n",
        "decode = lambda idxs: ''.join([idx2char[idx] for idx in idxs])\n",
        "\n",
        "tokenized_text = torch.tensor(encode(text),dtype=torch.long)\n",
        "\n",
        "#Train / Valid split.\n",
        "train_test_split_idx = int(len(tokenized_text) * 0.9)\n",
        "train_data = tokenized_text[:train_test_split_idx]\n",
        "valid_data = tokenized_text[train_test_split_idx:]"
      ]
    },
    {
      "cell_type": "code",
      "execution_count": 4,
      "metadata": {
        "id": "84bd3989-5fa8-4bb1-83e5-d03afbea1194"
      },
      "outputs": [],
      "source": [
        "#| output: true\n",
        "def plot_losses(losses):\n",
        "    train_losses = [o['train'] for o in losses if o.get('train') is not None]\n",
        "    valid_losses = [o['valid'] for o in losses if o.get('valid') is not None]\n",
        "    plt.plot(train_losses, label='Training Loss')\n",
        "    plt.plot(valid_losses, label='Validation Loss')\n",
        "    plt.ylabel('Loss')\n",
        "    plt.title('Losses')\n",
        "    plt.legend()\n",
        "    plt.show()"
      ]
    },
    {
      "cell_type": "code",
      "execution_count": 5,
      "metadata": {
        "id": "aff7d057-78ff-42f1-ae34-9b3d15d67ad8"
      },
      "outputs": [],
      "source": [
        "#| output: true\n",
        "def get_batch(split:str, batch_size:int=batch_size, context_length:int=context_length):\n",
        "    #Function to get a batch of data from the train or valid dataset\n",
        "    data = train_data if split == 'train' else valid_data\n",
        "    idxs = torch.randint(low=0, high=len(data)-context_length, size=(batch_size,))\n",
        "    x = torch.stack([data[idx:idx+context_length] for idx in idxs])\n",
        "    y = torch.stack([data[idx+1:idx+context_length+1] for idx in idxs])\n",
        "    x,y = x.to(device), y.to(device) #Send data to the GPU if available\n",
        "    return x,y\n",
        "\n",
        "@torch.no_grad()\n",
        "def estimate_loss():\n",
        "    out = {}\n",
        "    model.eval()\n",
        "    for split in ['train','valid']:\n",
        "        losses = torch.zeros(eval_iters)\n",
        "        for k in range(eval_iters):\n",
        "            x_batch, y_batch = get_batch(split)\n",
        "            logits, loss = model(x_batch, y_batch)\n",
        "            losses[k] = loss.item()\n",
        "        out[split] = losses.mean()\n",
        "    model.train()\n",
        "    return out"
      ]
    },
    {
      "cell_type": "code",
      "execution_count": 6,
      "metadata": {
        "id": "5d3d8a56-8f8e-4ec2-9d50-21cf3d3434ae"
      },
      "outputs": [],
      "source": [
        "#| output: true\n",
        "class FeedForwardNetwork(nn.Module):\n",
        "    \"\"\"A simple linear network followed by a non-linearity\"\"\"\n",
        "    def __init__(self, embedding_dim:int=embedding_dim, dropout:float=dropout):\n",
        "        super().__init__()\n",
        "        self.embedding_dim = embedding_dim\n",
        "        self.dropout = dropout\n",
        "        self.ffn = nn.Sequential(\n",
        "            nn.Linear(in_features=self.embedding_dim, out_features=self.embedding_dim*4),\n",
        "            nn.ReLU(),\n",
        "            nn.Linear(in_features=self.embedding_dim*4, out_features=self.embedding_dim),\n",
        "            nn.Dropout(dropout), #NEW\n",
        "        )\n",
        "    def forward(self, x):\n",
        "        return self.ffn(x)"
      ]
    },
    {
      "cell_type": "code",
      "execution_count": 7,
      "metadata": {
        "id": "4dc1c95a-3ad8-4601-bc06-ac0e45c20ec3"
      },
      "outputs": [],
      "source": [
        "#| output: true\n",
        "class Head(nn.Module):\n",
        "    \"\"\" one head of self attention \"\"\"\n",
        "    def __init__(self, head_size:int, embedding_dim:int=embedding_dim,\n",
        "                 context_length:int=context_length, dropout:float=dropout):\n",
        "        super().__init__()\n",
        "        self.embedding_dim = embedding_dim\n",
        "        self.head_size = head_size\n",
        "        self.context_length = context_length\n",
        "        self.dropout = dropout\n",
        "\n",
        "        self.key_layer   = nn.Linear(in_features=self.embedding_dim, out_features=self.head_size, bias=False)\n",
        "        self.query_layer = nn.Linear(in_features=self.embedding_dim, out_features=self.head_size, bias=False)\n",
        "        self.value_layer = nn.Linear(in_features=self.embedding_dim, out_features=self.head_size, bias=False)\n",
        "        self.register_buffer('tril', torch.tril(torch.ones((self.context_length, self.context_length))))\n",
        "        self.dropout_layer = nn.Dropout(dropout) # NEW\n",
        "\n",
        "    def forward(self, x):\n",
        "        # input of size (batch, time-step, channels)\n",
        "        # output of size (batch, time-step, head size)\n",
        "        B,T,C = x.shape\n",
        "        assert T <= self.context_length\n",
        "        assert C == self.embedding_dim\n",
        "        q = self.query_layer(x) #(B,T,C) (batch size, context length, head_size)\n",
        "        k = self.key_layer(x) #(B,T,C) (batch size, context length, head_size)\n",
        "        v = self.value_layer(x) #(B,T,C) (batch size, context length, head_size)\n",
        "\n",
        "        #compute scores based on affinities\n",
        "        weights = (q @ k.transpose(-2,-1)) * self.head_size**-0.5 # (B,T,C) @ (B,C,T) -> (B,T,T) #FIXED ^-.5 is 1/sqrt() so need to mult, not div\n",
        "        weights = weights.masked_fill(self.tril[:T,:T] == 0, float('-inf')) #(B,T,T)\n",
        "        weights = F.softmax(input=weights, dim=-1) #(B,T,T)\n",
        "        weights = self.dropout_layer(weights) # NEW\n",
        "\n",
        "        #perform weighted aggragation of the values\n",
        "        out = weights @ v # (B,T,T) @ (B,T,C) -> (B,T,C)\n",
        "        return out\n",
        "\n",
        "# Head()(x)"
      ]
    },
    {
      "cell_type": "code",
      "execution_count": 8,
      "metadata": {
        "id": "12c64b22-5967-447f-ad0f-ecaacf635345"
      },
      "outputs": [],
      "source": [
        "#| output: true\n",
        "class MultiHeadAttention(nn.Module):\n",
        "    def __init__(self, num_heads:int, head_size:int, embedding_dim:int=embedding_dim,\n",
        "                 context_length:int=context_length, dropout:float=dropout):\n",
        "        super().__init__()\n",
        "        self.num_heads = num_heads\n",
        "        self.head_size = head_size\n",
        "        self.embedding_dim = embedding_dim\n",
        "        self.context_length = context_length\n",
        "        self.dropout = dropout\n",
        "\n",
        "        self.heads = nn.ModuleList([\n",
        "            Head(head_size=self.head_size, embedding_dim=self.embedding_dim,\n",
        "                 context_length=self.context_length)\n",
        "            for _ in range(self.num_heads)])\n",
        "\n",
        "        self.projection_layer = nn.Linear(in_features=self.embedding_dim, out_features=self.embedding_dim, bias=True)\n",
        "        self.dropout_layer = nn.Dropout(dropout) # NEW\n",
        "\n",
        "    def forward(self, x):\n",
        "        out = torch.cat([h(x) for h in self.heads], dim=-1)\n",
        "        out = self.projection_layer(out)\n",
        "        out = self.dropout_layer(out) # NEW\n",
        "        return out"
      ]
    },
    {
      "cell_type": "code",
      "execution_count": 9,
      "metadata": {
        "id": "77c5e96c-f44c-42b2-8539-bf8288a71658"
      },
      "outputs": [],
      "source": [
        "#| output: true\n",
        "class TransformerBlock(nn.Module):\n",
        "    \"\"\"Transformer Block: Communication folled by computation.\"\"\"\n",
        "    def __init__(self, num_heads:int, embedding_dim:int=embedding_dim, context_length:int=context_length,\n",
        "                 dropout:float=dropout): #UPDATED\n",
        "        #embedding_dim: embedding dimension, num_heads: the number of heads that we want\n",
        "        super().__init__()\n",
        "        self.embedding_dim = embedding_dim\n",
        "        self.context_length = context_length\n",
        "        self.head_size = embedding_dim // num_heads\n",
        "        self.num_heads = num_heads\n",
        "        self.dropout = dropout # NEW\n",
        "\n",
        "        self.multi_self_attention_heads_layer = MultiHeadAttention(num_heads=num_heads, head_size=self.head_size,\n",
        "                                                                   embedding_dim=embedding_dim, context_length=context_length,\n",
        "                                                                   dropout=dropout) #UPDATED\n",
        "        self.feed_forward_network = FeedForwardNetwork(embedding_dim=self.embedding_dim, dropout=dropout)\n",
        "        self.layer_norm_1 = nn.LayerNorm(normalized_shape=self.embedding_dim)\n",
        "        self.layer_norm_2 = nn.LayerNorm(normalized_shape=self.embedding_dim)\n",
        "\n",
        "    def forward(self, x):\n",
        "        x = x + self.multi_self_attention_heads_layer(self.layer_norm_1(x))\n",
        "        x = x + self.feed_forward_network(self.layer_norm_2(x))\n",
        "        return x\n"
      ]
    },
    {
      "cell_type": "code",
      "source": [
        "class EarlyStopper:\n",
        "    def __init__(self, patience=1, min_delta=0):\n",
        "        self.patience = patience\n",
        "        self.min_delta = min_delta\n",
        "        self.counter = 0\n",
        "        self.min_validation_loss = float('inf')\n",
        "\n",
        "    def early_stop(self, validation_loss):\n",
        "        if validation_loss < self.min_validation_loss:\n",
        "            self.min_validation_loss = validation_loss\n",
        "            self.counter = 0\n",
        "        elif validation_loss > (self.min_validation_loss + self.min_delta):\n",
        "            self.counter += 1\n",
        "            if self.counter >= self.patience:\n",
        "                return True\n",
        "        return False\n"
      ],
      "metadata": {
        "id": "gOJWkLRo6MO9"
      },
      "execution_count": 10,
      "outputs": []
    },
    {
      "cell_type": "code",
      "execution_count": 11,
      "metadata": {
        "id": "dbd3eb26-041f-4cbb-b609-14e8d72103ab",
        "outputId": "ff2145bb-d1ac-489b-b693-68c4fe76fc5a",
        "colab": {
          "base_uri": "https://localhost:8080/",
          "height": 916
        }
      },
      "outputs": [
        {
          "output_type": "stream",
          "name": "stdout",
          "text": [
            "Step: 0 Training Loss: 4.003 Validation Loss: 4.003\n",
            "Step: 200 Training Loss: 2.469 Validation Loss: 2.469\n",
            "Step: 400 Training Loss: 2.186 Validation Loss: 2.204\n",
            "Step: 600 Training Loss: 1.898 Validation Loss: 1.915\n",
            "Step: 800 Training Loss: 1.702 Validation Loss: 1.745\n",
            "Step: 1000 Training Loss: 1.561 Validation Loss: 1.643\n",
            "Step: 1200 Training Loss: 1.46 Validation Loss: 1.583\n",
            "Step: 1400 Training Loss: 1.368 Validation Loss: 1.544\n",
            "Step: 1600 Training Loss: 1.281 Validation Loss: 1.527\n",
            "Step: 1800 Training Loss: 1.205 Validation Loss: 1.523\n",
            "Step: 2000 Training Loss: 1.123 Validation Loss: 1.522\n",
            "Step: 2200 Training Loss: 1.043 Validation Loss: 1.549\n"
          ]
        },
        {
          "output_type": "display_data",
          "data": {
            "text/plain": [
              "<Figure size 640x480 with 1 Axes>"
            ],
            "image/png": "[encoded data removed]"
          },
          "metadata": {}
        },
        {
          "output_type": "stream",
          "name": "stdout",
          "text": [
            "\n",
            "მისსა გარებდა, გითხრობ შენა ჩენკენალსა.\n",
            "კვლა ატირდეს მიენდორს ღაწვთა, დღეცა ბადნი მკლევიან,\n",
            "მეფე დიდებულთა, მისთა კბილმან, ვითა მეტად ვიან;\n",
            "მისგან ნაცვლად ყოვლისა ამოს, რომ ცუდად ივარე,\n",
            "რაცა ვნახავს სტირ, მსგავსი სიკვდილი ჩემზეებრ მემცა შენით\".\n",
            "\n",
            "მღმერთო, გკადრებ, გიბი უშმაგო დავასწევ, გულისა დამემინები;\n",
            "ეგრეცა გვეუშვარ მაგრა დაგზავნი, აქა გამსახურები,\n",
            "გავუღარი, არას მომადგებმა დაველი, არა დამექონები;\n",
            "გულსა გამეშველა მისწრა, არცა მომივალე, ნაქმე კარები:\n",
            "შენთა, შეცვლად შემოგებე, სჯერდი რომე გული წ\n",
            "CPU times: user 9min, sys: 4.9 s, total: 9min 5s\n",
            "Wall time: 9min 3s\n"
          ]
        }
      ],
      "source": [
        "%%time\n",
        "#| output: true\n",
        "torch.manual_seed(TORCH_SEED)\n",
        "class TransformerLanguageModel(nn.Module):\n",
        "    def __init__(self, head_size:int, vocab_size:int=vocab_size, embedding_dim:int=embedding_dim, context_length:int=context_length,\n",
        "                 num_layers:int=num_layers, dropout:float=dropout, num_heads:int=num_heads): #UPDATED\n",
        "        super().__init__()\n",
        "        self.vocab_size = vocab_size\n",
        "        self.embedding_dim = embedding_dim\n",
        "        self.context_length = context_length\n",
        "        self.head_size = head_size\n",
        "        self.num_layers = num_layers #NEW\n",
        "        self.dropout = dropout\n",
        "\n",
        "        self.token_embedding_table = nn.Embedding(num_embeddings=self.vocab_size, embedding_dim=self.embedding_dim)\n",
        "        self.token_position_embedding_table = nn.Embedding(num_embeddings=self.context_length, embedding_dim=self.embedding_dim)\n",
        "\n",
        "        self.transformer_blocks = nn.Sequential(*([\n",
        "            TransformerBlock(embedding_dim=embedding_dim, num_heads=num_heads, context_length=context_length,\n",
        "                             dropout=self.dropout) for _ in range(self.num_layers)]+[\n",
        "            nn.LayerNorm(embedding_dim)\n",
        "        ])) #UPDATED\n",
        "        self.language_model_head_linear_layer = nn.Linear(in_features=self.embedding_dim, out_features=self.vocab_size)\n",
        "\n",
        "    def forward(self, idx, targets=None):\n",
        "        #Both idx and targets are (B,T) Batch x Time array of integers\n",
        "        B,T = idx.shape\n",
        "        token_embeddings = self.token_embedding_table(idx) #(B,T,C) Batch, Time, Channel\n",
        "        token_position_embeddings = self.token_position_embedding_table(torch.arange(T, device=device)) #(T,C)\n",
        "        x = token_embeddings + token_position_embeddings\n",
        "        x = self.transformer_blocks(x)\n",
        "        logits = self.language_model_head_linear_layer(x) #(B,T,C) Where C is now token logits of size vocab_size\n",
        "\n",
        "        if targets is not None:\n",
        "            B,T,C = logits.shape\n",
        "            logits_reshaped = logits.view(B*T,C)\n",
        "            targets_reshaped = targets.view(B*T)\n",
        "            loss = F.cross_entropy(input=logits_reshaped, target=targets_reshaped)\n",
        "        else:\n",
        "            loss=None\n",
        "        return logits, loss\n",
        "\n",
        "    def generate(self, idx, max_new_tokens):\n",
        "        #idx is (B,T) array of indicies in the current context\n",
        "        for _ in range(max_new_tokens):\n",
        "            #Crop idx to the max size of our positional embeddings table\n",
        "            idx_crop = idx[:,-self.context_length:]\n",
        "            #Get predictions\n",
        "            logits, loss = self(idx_crop)\n",
        "            #Get the last time step from logits where the dimensions of the logits are (B,T,C)\n",
        "            logits_last_timestep = logits[:,-1,:] #Becomes (B,C)\n",
        "            #Apply softmax to get probabilities\n",
        "            probs = F.softmax(input=logits_last_timestep, dim=-1) #(B,C)\n",
        "            #Sample from the probs distribution.\n",
        "            idx_next = torch.multinomial(input=probs, num_samples=1) #(B,1) Returns (B,idxs) where idxs are random integer indicies.\n",
        "            #Append the sampled indexes idx_next to idx\n",
        "            idx = torch.cat((idx, idx_next), dim=1) #(B, T+1)\n",
        "        return idx\n",
        "\n",
        "model = TransformerLanguageModel(head_size=head_size1, vocab_size=vocab_size, embedding_dim=embedding_dim, context_length=context_length)\n",
        "model = model.to(device)\n",
        "optimizer = torch.optim.AdamW(params=model.parameters(), lr=learning_rate)\n",
        "tracked_losses = list()\n",
        "early_stopper = EarlyStopper(patience=3, min_delta=0)\n",
        "for step in range(max_iters):\n",
        "    if step % eval_iters == 0 or step == max_iters-1:\n",
        "        losses = estimate_loss()\n",
        "        tracked_losses.append(losses)\n",
        "        print('Step:',step,'Training Loss:',round(losses['train'].item(),3),'Validation Loss:',round(losses['valid'].item(),3))\n",
        "\n",
        "    xb,yb = get_batch('train')\n",
        "    logits, loss = model(xb,yb)\n",
        "    optimizer.zero_grad(set_to_none=True)\n",
        "    loss.backward()\n",
        "    optimizer.step()\n",
        "    if early_stopper.early_stop(losses['valid'].item()):\n",
        "        break\n",
        "\n",
        "plot_losses(tracked_losses)\n",
        "context = torch.zeros((1,1), dtype=torch.long, device=device)\n",
        "print(decode(model.generate(context,max_new_tokens=500)[0].tolist()))"
      ]
    },
    {
      "cell_type": "code",
      "source": [
        "encode('იყო არაბეთს როსტევან')"
      ],
      "metadata": {
        "colab": {
          "base_uri": "https://localhost:8080/"
        },
        "id": "AsY0qr9tO-Ju",
        "outputId": "a7c01385-5278-4e76-89d6-dd0194341c09"
      },
      "execution_count": 13,
      "outputs": [
        {
          "output_type": "execute_result",
          "data": {
            "text/plain": [
              "[22, 37, 27, 1, 14, 30, 14, 15, 18, 21, 31, 1, 30, 27, 31, 32, 18, 19, 14, 26]"
            ]
          },
          "metadata": {},
          "execution_count": 13
        }
      ]
    },
    {
      "cell_type": "code",
      "source": [
        "context.shape"
      ],
      "metadata": {
        "colab": {
          "base_uri": "https://localhost:8080/"
        },
        "id": "En1jieFbYKDk",
        "outputId": "407ccb33-0f92-44ea-ec44-1be450256637"
      },
      "execution_count": 22,
      "outputs": [
        {
          "output_type": "execute_result",
          "data": {
            "text/plain": [
              "torch.Size([1, 1])"
            ]
          },
          "metadata": {},
          "execution_count": 22
        }
      ]
    },
    {
      "cell_type": "code",
      "source": [
        "c2 = torch.tensor(encode('იყო არაბეთს როსტე'), dtype=torch.long, device=device)"
      ],
      "metadata": {
        "id": "54rZYg4EYP5u"
      },
      "execution_count": 32,
      "outputs": []
    },
    {
      "cell_type": "code",
      "source": [
        "c2.unsqueeze(1).unsqueeze(0)[:,-4:,:]#.shape"
      ],
      "metadata": {
        "colab": {
          "base_uri": "https://localhost:8080/"
        },
        "id": "ZLOLJCIQZAcf",
        "outputId": "2927c16c-a655-4d9a-86b7-71e9c52c02ff"
      },
      "execution_count": 67,
      "outputs": [
        {
          "output_type": "execute_result",
          "data": {
            "text/plain": [
              "tensor([[[27],\n",
              "         [31],\n",
              "         [32],\n",
              "         [18]]], device='cuda:0')"
            ]
          },
          "metadata": {},
          "execution_count": 67
        }
      ]
    },
    {
      "cell_type": "code",
      "source": [
        "print(decode(model.generate(c2.unsqueeze(1),max_new_tokens=500)[0].tolist()))"
      ],
      "metadata": {
        "colab": {
          "base_uri": "https://localhost:8080/"
        },
        "id": "mV4yWBQnYgjk",
        "outputId": "a6e5f554-bc98-447f-9326-3378547d52c5"
      },
      "execution_count": 35,
      "outputs": [
        {
          "output_type": "stream",
          "name": "stdout",
          "text": [
            "იარდე, ვინცა ვხედნა,\n",
            "ვინ აჭრებდეს, გარდუმდის ყოვლგნი, ასრევდეს,\n",
            "დაჰყოს ლომი მიეფისათვის, დალეწეს მკვდარი.\n",
            "\n",
            "ავთანდილ ყმა, თუ: ნაწყრობად დასაგდებოდა;\n",
            "რა მაშინ, დაიგდეს, ჰკადრნეს უჩუო განანადირობდა;\n",
            "ზდაჯე უჭვრეტს ყელსა ყოვლგან ვერცა საჭვრეტლად ირებოდა:\n",
            "მგითხრობდით, ჩემგვარ რა კვლაცა ჩემიცა დააგდებოდა;\n",
            "არ ით ნახა წავიმაჭვ, არ მისი მეამებოდან.\n",
            "\n",
            "გამირბეთ საუბარად უთვარა, კვლა სულთქნა სიტკბდიროდა.\n",
            "ქედს გააგეკივიფარდა, გააპარა მჯობს რიდე!\n",
            "ქონაიმე ქალინი, რკინა, საჭვრეტელი ჩემი თანა ბარი;\n",
            "ოდიოდ გაუმუზრავი\n"
          ]
        }
      ]
    },
    {
      "cell_type": "code",
      "source": [],
      "metadata": {
        "id": "dz-39LX7YoeP"
      },
      "execution_count": null,
      "outputs": []
    }
  ]
}